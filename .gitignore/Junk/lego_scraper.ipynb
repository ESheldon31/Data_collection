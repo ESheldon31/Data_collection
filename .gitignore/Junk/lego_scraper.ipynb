{
 "cells": [
  {
   "cell_type": "code",
   "execution_count": 2,
   "metadata": {},
   "outputs": [
    {
     "name": "stderr",
     "output_type": "stream",
     "text": [
      "\n",
      "\n",
      "====== WebDriver manager ======\n",
      "Current google-chrome version is 100.0.4896\n",
      "Get LATEST chromedriver version for 100.0.4896 google-chrome\n",
      "Driver [/Users/ESheldon/.wdm/drivers/chromedriver/mac64/100.0.4896.60/chromedriver] found in cache\n"
     ]
    }
   ],
   "source": [
    "from scraper_module import LegoScraper\n",
    "\n",
    "if __name__ == '__main__': \n",
    "\n",
    "    def web_scraper_lego():\n",
    "        #search_term = input('I would like to search for... ')\n",
    "        search_term = 'violin'\n",
    "        scraper = LegoScraper('https://ideas.lego.com', search_term)\n",
    "        try:\n",
    "            scraper.accept_cookies(frame_id=None, XPATH= '//button[@aria-label=\"Reject cookies\"]')\n",
    "            #scraper.explore_product_ideas('//a[@class=\"sub-menu\"][1]', '//div[@class=\"header-link\"][1]')\n",
    "            scraper.search('//input[@name=\"query\"]')\n",
    "            scraper.get_list_links('//*[@id=\"search_results\"]', './div')\n",
    "            #time.sleep(2)\n",
    "            # scraper.get_img_links(XPATH_main_image='//div[@class=\"image-sizing-wrapper\"]', XPATH_thumbnail_container='//div[@class=\"thumbnails-tray\"]', XPATH_thumbnails='./div')\n",
    "            scraper.create_uuid(scraper.link_list)\n",
    "            # scraper.create_id()\n",
    "            #scraper.get_html()\n",
    "            # scraper.get_info_from_html()\n",
    "            scraper.get_info_from_java()\n",
    "            # #scraper.get_info()\n",
    "            # scraper.collate_info()\n",
    "            # scraper.download_raw_data()\n",
    "            #scraper.download_images()\n",
    "            #scraper.create_uuid()\n",
    "            # scraper.scroll_down_bottom()\n",
    "            # time.sleep(2)\n",
    "            # scraper.see_more('//*[@id=\"search-more\"]/a')\n",
    "            # #scraper.scroll_up_top()\n",
    "            # time.sleep(4)\n",
    "        finally: scraper.quit()\n",
    "\n",
    "\n",
    "\n",
    "\n",
    "    web_scraper_lego()\n",
    "    \n",
    "\n"
   ]
  },
  {
   "cell_type": "code",
   "execution_count": null,
   "metadata": {},
   "outputs": [],
   "source": [
    "if __name__ == '__main__': \n",
    "\n",
    "    def web_scraper_lego():\n",
    "        search_term = input('I would like to search for... ')\n",
    "        scraper = LegoScraper('https://ideas.lego.com', search_term)\n",
    "        try:\n",
    "            scraper.accept_cookies(frame_id=None, XPATH= '//button[@aria-label=\"Reject cookies\"]')            \n",
    "            scraper.search('//input[@name=\"query\"]')\n",
    "            scraper.get_list_links('//*[@id=\"search_results\"]', './div')\n",
    "            scraper.get_img_links(XPATH_main_image='//div[@class=\"image-sizing-wrapper\"]', XPATH_thumbnail_container='//div[@class=\"thumbnails-tray\"]', XPATH_thumbnails='./div')\n",
    "            scraper.create_uuid(scraper.link_list)\n",
    "            # scraper.create_id()\n",
    "            #scraper.get_html()\n",
    "            # scraper.get_info_from_html()\n",
    "            scraper.get_info_from_java()\n",
    "            # #scraper.get_info()\n",
    "            # scraper.collate_info()\n",
    "            # scraper.download_raw_data()\n",
    "            #scraper.download_images()\n",
    "            #scraper.create_uuid()\n",
    "            # scraper.scroll_down_bottom()\n",
    "            # time.sleep(2)\n",
    "            # scraper.see_more('//*[@id=\"search-more\"]/a')\n",
    "            # #scraper.scroll_up_top()\n",
    "            # time.sleep(4)\n",
    "        finally: scraper.quit()"
   ]
  }
 ],
 "metadata": {
  "interpreter": {
   "hash": "81c5b488f73ff207468821e03890586d8ed279d3a86e8e8e46dd711fd28c910f"
  },
  "kernelspec": {
   "display_name": "Python 3.9.11 ('data_coll_env')",
   "language": "python",
   "name": "python3"
  },
  "language_info": {
   "codemirror_mode": {
    "name": "ipython",
    "version": 3
   },
   "file_extension": ".py",
   "mimetype": "text/x-python",
   "name": "python",
   "nbconvert_exporter": "python",
   "pygments_lexer": "ipython3",
   "version": "3.9.11"
  },
  "orig_nbformat": 4
 },
 "nbformat": 4,
 "nbformat_minor": 2
}
